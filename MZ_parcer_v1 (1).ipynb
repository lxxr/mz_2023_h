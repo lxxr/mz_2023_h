{
  "metadata": {
    "language_info": {
      "codemirror_mode": {
        "name": "python",
        "version": 3
      },
      "file_extension": ".py",
      "mimetype": "text/x-python",
      "name": "python",
      "nbconvert_exporter": "python",
      "pygments_lexer": "ipython3",
      "version": "3.8"
    },
    "kernelspec": {
      "name": "python",
      "display_name": "Python (Pyodide)",
      "language": "python"
    }
  },
  "nbformat_minor": 4,
  "nbformat": 4,
  "cells": [
    {
      "cell_type": "code",
      "source": "import zipfile\nimport os\nimport re\nimport pandas as pd\n    \npath = 'C:/usr/prj/t2/data'\nos.chdir(path)\n\ndf = pd.DataFrame(columns=[\"filename\",\"MKB\",\"Codes\"])\n#for file_name in os.listdir(path):\nfor root, dirs, files in os.walk(path):\n    for file_name in files:\n        if file_name.endswith('.docx') and not file_name.startswith('~'):\n            full_path = os.path.join(root,file_name)\n\n            print(full_path)\n            with zipfile.ZipFile(full_path) as z:\n               xml = z.read('word/document.xml')\n            #print(xml.decode('utf-8'))\n            mkb = re.findall(r\"\\b[А-ЯA-Z]\\d{2}<|\\b[А-ЯA-Z]\\d{2}\\.[0-9]+\\s|[А-ЯA-Z][0-9]{2}\\s|\\b[А-ЯA-Z][0-9]{2}\\.[0-9]+<\", xml.decode('utf-8'))\n            #mkb = re.findall(r\"([А-ЯA-Z][0-9]{2}\\.[0-9]+<)\", xml.decode('utf-8'))\n            \n            mkb = [item.replace(\"<\",\"\").replace(\" \",\"\").replace(\"А\",\"A\").replace(\"В\",\"B\").replace(\"С\",\"C\").replace(\"Е\",\"E\").replace(\"К\",\"K\").replace(\"М\",\"M\").replace(\"О\",\"O\").replace(\"Р\",\"P\").replace(\"Т\",\"T\").replace(\"Х\",\"X\") for item in mkb]\n            #print(mkb)\n            cure = re.findall(r\"[А-ЯA-Z][0-9]+(?:\\.[0-9]+){2,3}(?:\\.[0-9]+)?\", xml.decode('utf-8'))  \n            df = df.append({\"filename\": file_name,\"MKB\":mkb,\"Codes\":cure}, ignore_index=True)",
      "metadata": {},
      "execution_count": null,
      "outputs": []
    }
  ]
}